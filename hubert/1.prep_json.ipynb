{
 "cells": [
  {
   "cell_type": "code",
   "execution_count": 1,
   "metadata": {},
   "outputs": [],
   "source": [
    "from pathlib import Path\n",
    "from tqdm import tqdm\n",
    "from soundfile import SoundFile\n",
    "import json\n",
    "\n",
    "def cal_sample_number(your_wav_file_path):\n",
    "    sound_file = SoundFile(your_wav_file_path)\n",
    "    sample_number = sound_file.frames\n",
    "    sound_file.close()\n",
    "    return sample_number"
   ]
  },
  {
   "cell_type": "code",
   "execution_count": 2,
   "metadata": {},
   "outputs": [
    {
     "name": "stdout",
     "output_type": "stream",
     "text": [
      "The dictionary has been written to /data/database/wTM/lengths.json\n"
     ]
    }
   ],
   "source": [
    "in_dir = \"/data/database/wTM/wavs\"\n",
    "in_dir = Path(in_dir)\n",
    "my_dict = {}\n",
    "for in_path in list(in_dir.rglob(\"*.WAV\")):\n",
    "    sample_number = cal_sample_number(in_path)\n",
    "    in_path = str(in_path)\n",
    "    in_path = in_path.split('/wTM/wavs/')[1]\n",
    "    in_path = in_path.split('.WAV')[0]\n",
    "    my_dict[in_path] = sample_number\n",
    "\n",
    "json_file_path = '/data/database/wTM/lengths.json'\n",
    "with open(json_file_path, 'w') as json_file:\n",
    "    json.dump(my_dict, json_file, indent=4)\n",
    "print(f'The dictionary has been written to {json_file_path}')"
   ]
  }
 ],
 "metadata": {
  "kernelspec": {
   "display_name": "w2n",
   "language": "python",
   "name": "w2n"
  },
  "language_info": {
   "codemirror_mode": {
    "name": "ipython",
    "version": 3
   },
   "file_extension": ".py",
   "mimetype": "text/x-python",
   "name": "python",
   "nbconvert_exporter": "python",
   "pygments_lexer": "ipython3",
   "version": "3.10.0"
  }
 },
 "nbformat": 4,
 "nbformat_minor": 2
}
